{
 "cells": [
  {
   "cell_type": "code",
   "execution_count": 3,
   "id": "f5769521",
   "metadata": {},
   "outputs": [
    {
     "name": "stdout",
     "output_type": "stream",
     "text": [
      "Ingrese el primer número entero: 1\n",
      "Ingrese el segundo número entero: 5\n",
      "La suma de los números pares entre 1 y 5 es 6\n"
     ]
    }
   ],
   "source": [
    "#Ejercicio 1 - Suma de números pares:\n",
    "\n",
    "#1. Pedir al usuario dos números enteros:\n",
    "numero_1 = int(input(\"Ingrese el primer número entero: \"))\n",
    "numero_2 = int(input(\"Ingrese el segundo número entero: \"))\n",
    "\n",
    "#2. Asegurar que el número 1 sea menor que el número 2:\n",
    "if numero_1 > numero_2:\n",
    "    numero_1, numero_2 = numero_2, numero_1\n",
    "\n",
    "#3. Crear una variable para almacenar la suma de los números pares:\n",
    "suma_pares = 0\n",
    "\n",
    "# 4. Generar la secuencia de números enteros entre el número 1 y el número 2:\n",
    "for i in range(numero_1, numero_2 + 1):\n",
    "\n",
    "# 5. Comprobar si el número es par utilizando el módulo:\n",
    "    if i % 2 == 0:\n",
    "        \n",
    "# 6: Si es par, sumarlo en suma_pares:\n",
    "        suma_pares += i\n",
    "\n",
    "#7. Imprimir el resultado:\n",
    "print(\"La suma de los números pares entre\", numero_1, \"y\", numero_2, \"es\", suma_pares)\n"
   ]
  },
  {
   "cell_type": "code",
   "execution_count": 3,
   "id": "dd0edea3",
   "metadata": {},
   "outputs": [
    {
     "name": "stdout",
     "output_type": "stream",
     "text": [
      "Calculadora de área:\n",
      "1 - Cuadrado\n",
      "2 - Triángulo\n",
      "3 - Círculo\n",
      "Seleccione el número de la figura: 3\n",
      "Ingrese el radio del círculo: 5\n",
      "El área del círculo es: 78.53981633974483\n"
     ]
    }
   ],
   "source": [
    "#Ejercicio 2 - Calculadora de áreas:\n",
    "\n",
    "#1. Importar la librería math para obtener el valor de pi:\n",
    "import math  \n",
    "\n",
    "#2. Pedir al usuario el tipo de figura geométrica:\n",
    "print(\"Calculadora de área:\")\n",
    "print(\"1 - Cuadrado\")\n",
    "print(\"2 - Triángulo\")\n",
    "print(\"3 - Círculo\")\n",
    "opcion = int(input(\"Seleccione el número de la figura: \"))\n",
    "\n",
    "#3. Calcular las áreas:\n",
    "#Cuadrado:\n",
    "def calcular_area_cuadrado():\n",
    "    lado = float(input(\"Ingrese la longitud de un lado del cuadrado: \"))\n",
    "    area = lado * lado\n",
    "    print(\"El área del cuadrado es:\", area)\n",
    "\n",
    "#Triángulo:\n",
    "def calcular_area_triangulo():\n",
    "    base = float(input(\"Ingrese la longitud de la base del triángulo: \"))\n",
    "    altura = float(input(\"Ingrese la altura del triángulo: \"))\n",
    "    area = 0.5 * base * altura\n",
    "    print(\"El área del triángulo es:\", area)\n",
    "\n",
    "#Círculo:\n",
    "def calcular_area_circulo():\n",
    "    radio = float(input(\"Ingrese el radio del círculo: \"))\n",
    "    area = math.pi * (radio ** 2)\n",
    "    print(\"El área del círculo es:\", area)\n",
    "\n",
    "#4. Seleccionar la función de cálculo de área según la opción del usuario:\n",
    "if opcion == 1:\n",
    "    calcular_area_cuadrado()\n",
    "elif opcion == 2:\n",
    "    calcular_area_triangulo()\n",
    "elif opcion == 3:\n",
    "    calcular_area_circulo()\n",
    "else:\n",
    "    print(\"Por favor, seleccione una opción válida (1, 2 o 3).\")\n"
   ]
  },
  {
   "cell_type": "code",
   "execution_count": 5,
   "id": "5da811b2",
   "metadata": {},
   "outputs": [
    {
     "name": "stdout",
     "output_type": "stream",
     "text": [
      "Adivina el número (entre 1 y 100): 50\n",
      "El número es menor.\n",
      "Adivina el número (entre 1 y 100): 25\n",
      "El número es menor.\n",
      "Adivina el número (entre 1 y 100): 10\n",
      "El número es mayor.\n",
      "Adivina el número (entre 1 y 100): 15\n",
      "El número es mayor.\n",
      "Adivina el número (entre 1 y 100): 20\n",
      "El número es menor.\n",
      "Adivina el número (entre 1 y 100): 19\n",
      "El número es menor.\n",
      "Adivina el número (entre 1 y 100): 18\n",
      "El número es menor.\n",
      "Adivina el número (entre 1 y 100): 17\n",
      "El número es menor.\n",
      "Adivina el número (entre 1 y 100): 16\n",
      "¡Has adivinado el número!\n"
     ]
    }
   ],
   "source": [
    "#Ejercicio 3 - Adivina el número:\n",
    "\n",
    "#1. Importar la biblioteca random para generar números aleatorios:\n",
    "import random\n",
    "\n",
    "#2. Generar un número aleatorio entre 1 y 100, y guardarlo en una variable:\n",
    "numero_aleatorio = random.randint(1, 100)\n",
    "\n",
    "#3. Crear un ciclo para que el programa continúe pidiendo números hasta que el usuario adivine el correcto. Comenzar creando una variable para señalar si el usuario adivina o no el número y dar comienzo al ciclo:\n",
    "usuario_adivina = False\n",
    "while not usuario_adivina:\n",
    "\n",
    "#4. Preguntar el número al usuario y almacenarlo en una variable:\n",
    "    intento = int(input(\"Adivina el número (entre 1 y 100): \"))\n",
    "\n",
    "#5. Comparar el número ingresado con el número aleatorio y proporcionar pistas. Si el número es igual, cambia el valor de usuario_adivina a True para salir del ciclo, terminar el programa e imprimir que ha adivinado el número:\n",
    "    if intento == numero_aleatorio:\n",
    "        print(\"¡Has adivinado el número!\")\n",
    "        usuario_adivina = True\n",
    "    elif intento < numero_aleatorio:\n",
    "        print(\"El número es mayor.\")\n",
    "    else:\n",
    "        print(\"El número es menor.\")\n"
   ]
  },
  {
   "cell_type": "code",
   "execution_count": 8,
   "id": "64816820",
   "metadata": {},
   "outputs": [
    {
     "name": "stdout",
     "output_type": "stream",
     "text": [
      "Ingrese la velocidad a la que puede correr el caracol: 5\n",
      "🐌\n",
      "     🐌\n",
      "          🐌\n",
      "               🐌\n",
      "                    🐌\n",
      "                         🐌\n",
      "                              🐌\n",
      "                                   🐌\n",
      "                                        🐌\n",
      "                                             🐌\n",
      "                                                  🐌\n",
      "                                                       🐌\n",
      "                                                            🐌\n",
      "                                                                 🐌\n",
      "                                                                      🐌\n",
      "                                                                           🐌\n",
      "¡El caracol ha llegado a la meta 🎉🎉!\n"
     ]
    }
   ],
   "source": [
    "#Ejercicio 4 - Maratón de caracoles:\n",
    "\n",
    "#1. Pedir al usuario la velocidad del caracol:\n",
    "velocidad_caracol = float(input(\"Ingrese la velocidad a la que puede correr el caracol: \"))\n",
    "\n",
    "#2. Crear una variable para iniciar la posición del caracol:\n",
    "posicion = 0\n",
    "\n",
    "#3. Definir la distancia máxima que recorrerá el caracol:\n",
    "distancia_maxima = 80\n",
    "\n",
    "#4. Crear un ciclo para representar el avance del caracol:\n",
    "while posicion < distancia_maxima:\n",
    "\n",
    "#5. Calcular cuántos espacios en blanco debe haber antes del caracol:\n",
    "    espacios_en_blanco = int(posicion)\n",
    "    \n",
    "#6. Imprimir los espacios en blanco seguidos del emoji de caracol:\n",
    "    print(\" \" * espacios_en_blanco + \"🐌\")\n",
    "    \n",
    "#7. Incrementar la posición del caracol en función de su velocidad:\n",
    "    posicion += velocidad_caracol\n",
    "    \n",
    "#8. Imprimir un mensaje cuando el caracol haya llegado a la meta:\n",
    "print(\"¡El caracol ha llegado a la meta 🎉🎉!\")\n"
   ]
  },
  {
   "cell_type": "code",
   "execution_count": null,
   "id": "3fcbd55c",
   "metadata": {},
   "outputs": [],
   "source": []
  },
  {
   "cell_type": "code",
   "execution_count": null,
   "id": "8550ca1a",
   "metadata": {},
   "outputs": [],
   "source": []
  }
 ],
 "metadata": {
  "kernelspec": {
   "display_name": "Python 3 (ipykernel)",
   "language": "python",
   "name": "python3"
  },
  "language_info": {
   "codemirror_mode": {
    "name": "ipython",
    "version": 3
   },
   "file_extension": ".py",
   "mimetype": "text/x-python",
   "name": "python",
   "nbconvert_exporter": "python",
   "pygments_lexer": "ipython3",
   "version": "3.9.13"
  }
 },
 "nbformat": 4,
 "nbformat_minor": 5
}
