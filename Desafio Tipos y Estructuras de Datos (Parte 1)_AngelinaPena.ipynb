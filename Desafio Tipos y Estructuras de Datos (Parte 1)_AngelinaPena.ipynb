{
 "cells": [
  {
   "cell_type": "code",
   "execution_count": 1,
   "id": "fdaaad11",
   "metadata": {},
   "outputs": [
    {
     "name": "stdout",
     "output_type": "stream",
     "text": [
      "['manzana', 'pera', 'naranja', 'plátano', 'kiwi', 'uva', 'piña', 'mango', 'sandía', 'melón']\n",
      "kiwi\n",
      "['plátano', 'kiwi', 'uva']\n",
      "['manzana', 'pera', 'naranja', 'kiwi', 'uva', 'piña', 'mango', 'sandía', 'melón']\n",
      "['manzana', 'pera', 'naranja', 'kiwi', 'uva', 'piña', 'mango', 'sandía', 'melón', 'mora', 'frutilla']\n",
      "['frutilla', 'kiwi', 'mango', 'manzana', 'melón', 'mora', 'naranja', 'pera', 'piña', 'sandía', 'uva']\n",
      "{'uno': 'frutilla', 'dos': 'kiwi', 'tres': 'mango', 'cuatro': 'manzana', 'cinco': 'melón', 'seis': 'mora', 'siete': 'naranja', 'ocho': 'pera', 'nueve': 'piña', 'diez': 'sandía'}\n"
     ]
    }
   ],
   "source": [
    "#Mensaje: Agustín,buenas noches.\n",
    "#Sé que me solicitaste aprender a utilizar GIT; pero me tocó trabajar y, el poco tiempo con el que contaba,\n",
    "#lo dediqué principalmente a resolver el desafío. También dediqué algo de tiempo a entender cómo usar esta\n",
    "#herramienta; pero no me resultó fácil. Ojalá puedas destinar unos minutos de la próxima ayudantía a GIT.\n",
    "#Gracias.\n",
    "\n",
    "\n",
    "#Ejercicio 1: Usando la siguiente lista:\n",
    "\n",
    "#lista original:\n",
    "lista = [\"manzana\", \"pera\", \"naranja\", \"plátano\", \"kiwi\", \"uva\", \"piña\", \"mango\", \"sandía\", \"melón\"]\n",
    "print(lista)\n",
    "\n",
    "#a. Imprime el quinto elemento de la lista:\n",
    "print(lista[4])\n",
    "\n",
    "#b. Imprime del cuarto al sexto inclusive:\n",
    "print(lista[3:6])\n",
    "\n",
    "#c. Elimina el elemento en la posición 3:\n",
    "lista.pop(3)\n",
    "print(lista)\n",
    "\n",
    "#d. Agrega dos nuevos elementos a la lista:\n",
    "nuevos_elementos = [\"mora\", \"frutilla\"]\n",
    "lista.extend(nuevos_elementos)\n",
    "print(lista)\n",
    "\n",
    "#e. Ordena la lista alfabéticamente:\n",
    "lista.sort()\n",
    "print(lista)\n",
    "\n",
    "#f. Genera un diccionario usando lista1 como llaves y lista como valores:\n",
    "\n",
    "# Definición Método Zip extraída de internet:\n",
    "# \"El método zip en Python se utiliza para combinar dos o más iterables en un sólo iterable de pares ordenados.\n",
    "# Crea una secuencia de tuplas, donde el primer elemento en cada uno de los iterables originales se combina en una tupla,\n",
    "# luego el segundo elemento en cada iterable se combina en otra tupla, y así sucesivamente.\n",
    "# La función zip detiene la combinación cuando uno de los iterables se agota\".\n",
    "# El resultado de zip es un iterable, por lo que, si se necesita un diccionario se debe convertir a esta estructura usando dict().\n",
    "\n",
    "lista1 = [\"uno\", \"dos\", \"tres\", \"cuatro\", \"cinco\", \"seis\", \"siete\", \"ocho\", \"nueve\", \"diez\"]\n",
    "\n",
    "diccionario_lista = dict(zip(lista1, lista))\n",
    "print(diccionario_lista)\n"
   ]
  },
  {
   "cell_type": "code",
   "execution_count": 8,
   "id": "c56e2eb8",
   "metadata": {},
   "outputs": [
    {
     "name": "stdout",
     "output_type": "stream",
     "text": [
      "5.005334665334665\n",
      "0.34934892044901755\n",
      "3.9572879039876123\n",
      "6.053381426681717\n",
      "2\n"
     ]
    }
   ],
   "source": [
    "#Ejercicio 2: Fabricación de cerveza artesanal:\n",
    "\n",
    "#Importar librería:\n",
    "import numpy as np\n",
    "\n",
    "#Cargar los datos del archivo con el que se va a trabajar:\n",
    "array = np.loadtxt(\"alcohol_cerveza.txt\",encoding=\"utf-16\")\n",
    "\n",
    "#Calcular la media de los datos y almacenar el resultado en una variable llamada media:\n",
    "media = np.mean(array)\n",
    "\n",
    "#Calcular la desviación estándar de los datos y almacenar el resultado en una variable llamada desviacion:\n",
    "desviacion = np.std(array)\n",
    "\n",
    "#Calcular el límite inferior de control (LIC) y almacenar el resultado en una variable llamada lic:\n",
    "lic = media - (3 * desviacion)\n",
    "\n",
    "#Calcular el límite superior de control (LSC) y almacenar el resultado en una variable llamada lsc:\n",
    "lsc = media + (3 * desviacion)\n",
    "\n",
    "#Imprimir los resultados de la media, la desviación estándar, el LIC y el LSC:\n",
    "print(media)\n",
    "print(desviacion)\n",
    "print(lic)\n",
    "print(lsc)\n",
    "\n",
    "#Filtrar el array para obtener los valores fuera de los límites de control:\n",
    "valores_fuera_limites = np.logical_or(array < lic, array > lsc)\n",
    "\n",
    "#Contar los valores fuera de los límites de control:\n",
    "cantidad_fuera_limites = np.sum(valores_fuera_limites)\n",
    "print(cantidad_fuera_limites)\n"
   ]
  },
  {
   "cell_type": "code",
   "execution_count": null,
   "id": "a61dbb00",
   "metadata": {},
   "outputs": [],
   "source": []
  }
 ],
 "metadata": {
  "kernelspec": {
   "display_name": "Python 3 (ipykernel)",
   "language": "python",
   "name": "python3"
  },
  "language_info": {
   "codemirror_mode": {
    "name": "ipython",
    "version": 3
   },
   "file_extension": ".py",
   "mimetype": "text/x-python",
   "name": "python",
   "nbconvert_exporter": "python",
   "pygments_lexer": "ipython3",
   "version": "3.9.13"
  }
 },
 "nbformat": 4,
 "nbformat_minor": 5
}
