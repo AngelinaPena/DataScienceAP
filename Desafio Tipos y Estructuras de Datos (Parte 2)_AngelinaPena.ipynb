{
 "cells": [
  {
   "cell_type": "code",
   "execution_count": 17,
   "id": "0d8fff3e",
   "metadata": {},
   "outputs": [],
   "source": [
    "#Desafío - Tipos y estructuras de Datos (Parte II)\n",
    "\n",
    "#0.Importar librería:\n",
    "import pandas as pd\n",
    "\n",
    "#1.Crear un DataFrame con el archivo entregado:\n",
    "df = pd.read_csv(\"resumen_resultados_astronautas.csv\")\n",
    "\n",
    "#2.Crear la columna \"IMC\" usando la fórmula entregada:\n",
    "#IMC = m / h*h; donde m = peso astronauta (kg) y h = estatura (m)\n",
    "\n",
    "#2.1.Transformar altura de cm a m:\n",
    "df[\"altura\"] = df[\"altura\"] / 100\n",
    "\n",
    "#2.2.Calcular \"IMC\":\n",
    "df[\"IMC\"] = df[\"peso\"] / (df[\"altura\"] ** 2)\n",
    "\n",
    "#2.3.Redondear \"IMC\" a un decimal:\n",
    "df[\"IMC\"] = df[\"IMC\"].round(1)\n",
    "\n",
    "#3.1.Crear la columna \"promedio_evaluaciones\" con el promedio de las 4 columnas de evaluaciones:\n",
    "df[\"promedio_evaluaciones\"] = df[[\"evaluacion_fisica\", \"evaluacion_psicologica\", \"evaluacion_adaptativa\", \"evaluacion_medica\"]].mean(axis = 1)\n",
    "\n",
    "#3.2.Si el \"IMC\" está entre 18.5 y 24.9, entonces el candidato tendrá un \"IMC\" adecuado para ser astronauta.\n",
    "#Filtrar el DataFrame para obtener sólo aquellas filas donde el \"IMC\" esté dentro de los límites entregados:\n",
    "df = df[(df[\"IMC\"] >= 18.5) & (df[\"IMC\"] <= 24.9)]\n",
    "\n",
    "#4.El promedio de las 4 evaluaciones debe ser mayor o igual a 87. Filtrar el DataFrame resultante y agregar esta condición\n",
    "#al filtro aplicado en el paso anterior:\n",
    "df = df[df[\"promedio_evaluaciones\"] >= 87]\n",
    "\n",
    "#5.Reiniciar el índice del DataFrame resultante:\n",
    "df = df.reset_index(drop=True)\n",
    "\n",
    "#6.Modificar el valor de la columna \"califica\", para que diga \"Si\" en todas las filas del DataFrame resultante:\n",
    "df[\"califica\"] = \"Si\"\n",
    "\n",
    "#7. Exportar el DataFrame resultante a un archivo .csv separado por comas con el nombre \"astronautas_calificados.csv\":\n",
    "df.to_csv(\"astronautas_calificados.csv\", index=False)\n"
   ]
  },
  {
   "cell_type": "code",
   "execution_count": null,
   "id": "02a1ad1b",
   "metadata": {},
   "outputs": [],
   "source": []
  },
  {
   "cell_type": "code",
   "execution_count": null,
   "id": "2afa0b02",
   "metadata": {},
   "outputs": [],
   "source": []
  }
 ],
 "metadata": {
  "kernelspec": {
   "display_name": "Python 3 (ipykernel)",
   "language": "python",
   "name": "python3"
  },
  "language_info": {
   "codemirror_mode": {
    "name": "ipython",
    "version": 3
   },
   "file_extension": ".py",
   "mimetype": "text/x-python",
   "name": "python",
   "nbconvert_exporter": "python",
   "pygments_lexer": "ipython3",
   "version": "3.9.13"
  }
 },
 "nbformat": 4,
 "nbformat_minor": 5
}
