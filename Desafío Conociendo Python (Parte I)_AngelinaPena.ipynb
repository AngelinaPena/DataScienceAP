{
 "cells": [
  {
   "cell_type": "code",
   "execution_count": 1,
   "id": "bc205b0d",
   "metadata": {},
   "outputs": [
    {
     "name": "stdout",
     "output_type": "stream",
     "text": [
      "Ingrese el monto de las ventas totales: 1000\n",
      "El salario total del vendedor es $600.0\n"
     ]
    }
   ],
   "source": [
    "#Ejercicio 1: Calculando el salario semanal\n",
    "\n",
    "# Ingresar el monto de las ventas totales del vendedor:\n",
    "ventas_totales = float(input(\"Ingrese el monto de las ventas totales: \"))\n",
    "\n",
    "# Calcular la comisión equivalente al 10% sobre las ventas totales:\n",
    "comision = ventas_totales * 0.10\n",
    "\n",
    "# Calcular el salario total sumando el salario base y la comisión:\n",
    "salario_base = 500\n",
    "salario_total = salario_base + comision\n",
    "\n",
    "# Imprimir el salario total:\n",
    "print(f\"El salario total del vendedor es ${salario_total}\")\n"
   ]
  },
  {
   "cell_type": "code",
   "execution_count": 3,
   "id": "fe2d659f",
   "metadata": {},
   "outputs": [
    {
     "name": "stdout",
     "output_type": "stream",
     "text": [
      "Ingrese el nombre de la fruta: mora\n",
      "El precio de mora es $2500\n"
     ]
    }
   ],
   "source": [
    "#Ejercicio 2: Bienvenido a la frutería virtual\n",
    "\n",
    "# Crear un diccionario llamado catálogo de frutas con algunas frutas y sus respectivos precios:\n",
    "catalogo_frutas = {'kiwi': 1300, 'cereza': 2300, 'mora': 2500, 'pepino': 1800}\n",
    "\n",
    "# Solicitar al usuario ingresar el nombre de una fruta:\n",
    "fruta = input(\"Ingrese el nombre de la fruta: \")\n",
    "\n",
    "# Verificar si la fruta está en el catálogo:\n",
    "if fruta in catalogo_frutas:\n",
    "    precio = catalogo_frutas[fruta]\n",
    "    print(f\"El precio de {fruta} es ${precio}\")\n",
    "else:\n",
    "    print(f\"{fruta} no se encuentra en nuestra frutería virtual.\")"
   ]
  },
  {
   "cell_type": "code",
   "execution_count": 4,
   "id": "6872cac2",
   "metadata": {},
   "outputs": [
    {
     "name": "stdout",
     "output_type": "stream",
     "text": [
      "El valor del primer dado es 6\n",
      "El valor del segundo dado es 5\n",
      "La suma de los valores de ambos dados es 11\n"
     ]
    }
   ],
   "source": [
    "#Ejercicio 3: Bienvenido al casino\n",
    "\n",
    "# Importar la librería random:\n",
    "import random\n",
    "\n",
    "# Generar dos números aleatorios entre 1 y 6 para representar los valores resultantes al lanzar dos dados:\n",
    "dado_1 = random.randint(1, 6)\n",
    "dado_2 = random.randint(1, 6)\n",
    "\n",
    "# Calcular la suma de los valores de los dados:\n",
    "suma = dado_1 + dado_2\n",
    "\n",
    "# Imprimir los valores de los dados y la suma de ambos valores:\n",
    "print(f\"El valor del primer dado es {dado_1}\")\n",
    "print(f\"El valor del segundo dado es {dado_2}\")\n",
    "print(f\"La suma de los valores de ambos dados es {suma}\")"
   ]
  },
  {
   "cell_type": "code",
   "execution_count": 5,
   "id": "23df20cb",
   "metadata": {},
   "outputs": [
    {
     "name": "stdout",
     "output_type": "stream",
     "text": [
      "Ingrese su límite diario de calorías: 2000\n",
      "Ingrese la cantidad de calorías que tiene una porción de chocolate: 100\n",
      "Puede comer un máximo de 20.0 porciones de chocolate sin exceder su límite diario de calorías.\n"
     ]
    }
   ],
   "source": [
    "#Ejercicio 4: Calculadora de chocolate\n",
    "\n",
    "# Solicitar al usuario ingresar su límite diario de calorías:\n",
    "limite_diario_calorias = float(input(\"Ingrese su límite diario de calorías: \"))\n",
    "\n",
    "# Solicitar al usuario ingresar la cantidad de calorías que tiene una porción de chocolate:\n",
    "calorias_porcion_chocolate = float(input(\"Ingrese la cantidad de calorías que tiene una porción de chocolate: \"))\n",
    "\n",
    "# Calcular la cantidad máxima de chocolate que puede comer el usuario sin exceder su límite diario de calorías:\n",
    "max_cantidad_chocolate = limite_diario_calorias / calorias_porcion_chocolate\n",
    "\n",
    "# Imprimir la cantidad máxima de chocolate que puede comer el usuario:\n",
    "print(f\"Puede comer un máximo de { max_cantidad_chocolate} porciones de chocolate sin exceder su límite diario de calorías.\")"
   ]
  },
  {
   "cell_type": "code",
   "execution_count": null,
   "id": "dee78342",
   "metadata": {},
   "outputs": [],
   "source": []
  }
 ],
 "metadata": {
  "kernelspec": {
   "display_name": "Python 3 (ipykernel)",
   "language": "python",
   "name": "python3"
  },
  "language_info": {
   "codemirror_mode": {
    "name": "ipython",
    "version": 3
   },
   "file_extension": ".py",
   "mimetype": "text/x-python",
   "name": "python",
   "nbconvert_exporter": "python",
   "pygments_lexer": "ipython3",
   "version": "3.9.13"
  }
 },
 "nbformat": 4,
 "nbformat_minor": 5
}
