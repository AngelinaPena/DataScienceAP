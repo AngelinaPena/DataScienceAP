{
 "cells": [
  {
   "cell_type": "code",
   "execution_count": 1,
   "id": "e75f922d",
   "metadata": {},
   "outputs": [
    {
     "name": "stdout",
     "output_type": "stream",
     "text": [
      "  case_number        date                  location subject_statuses  \\\n",
      "0      44523A  2013-02-23     3000 Chihuahua Street          Injured   \n",
      "1     121982X  2010-05-03  1300 N. Munger Boulevard          Injured   \n",
      "2     605484T  2007-08-12   200 S. Stemmons Freeway            Other   \n",
      "3     384832T  2007-05-26           7900 S. Loop 12   Shoot and Miss   \n",
      "4     244659R  2006-04-03        6512 South Loop 12          Injured   \n",
      "\n",
      "  subject_weapon                                           subjects  \\\n",
      "0        Handgun                                   Curry, James L/M   \n",
      "1        Handgun                                Chavez, Gabriel L/M   \n",
      "2        Shotgun                                  Salinas, Nick L/M   \n",
      "3        Unarmed  Smith, James B/M; Dews, Antonio B/M; Spearman,...   \n",
      "4          Hands                                 Watkins, Caleb B/M   \n",
      "\n",
      "   subject_count                                   officers  officer_count  \\\n",
      "0              1  Patino, Michael L/M; Fillingim, Brian W/M              2   \n",
      "1              1                       Padilla, Gilbert L/M              1   \n",
      "2              1                          Poston, Jerry W/M              1   \n",
      "3              3                         Mondy, Michael B/M              1   \n",
      "4              1                     Armstrong, Michael W/M              1   \n",
      "\n",
      "  grand_jury_disposition attorney_general_forms_url  \\\n",
      "0                No Bill                       None   \n",
      "1                No Bill                       None   \n",
      "2            See Summary                       None   \n",
      "3                   None                       None   \n",
      "4                No Bill                       None   \n",
      "\n",
      "                                         summary_url  \\\n",
      "0  http://dallaspolice.net/reports/OIS/narrative/...   \n",
      "1  http://dallaspolice.net/reports/OIS/narrative/...   \n",
      "2  http://dallaspolice.net/reports/OIS/narrative/...   \n",
      "3  http://dallaspolice.net/reports/OIS/narrative/...   \n",
      "4  http://dallaspolice.net/reports/OIS/narrative/...   \n",
      "\n",
      "                                        summary_text  latitude  longitude  \n",
      "0  On Saturday, February 23, 2013, at approximate...       NaN        NaN  \n",
      "1  On Monday, May 3, 2010, at approximately 8:06 ...       NaN        NaN  \n",
      "2  On Sunday, August 12, 2007, at approximately 2...       NaN        NaN  \n",
      "3  On Saturday, May 26, 2007, at approximately 1:...       NaN        NaN  \n",
      "4  On Monday, April 3, 2006, at approximately 11:...       NaN        NaN  \n",
      "  case_number race gender  last_name first_name         full_name\n",
      "0      44523A    L      M     Patino    Michael   Patino, Michael\n",
      "1      44523A    W      M  Fillingim      Brian  Fillingim, Brian\n",
      "2     121982X    L      M    Padilla    Gilbert  Padilla, Gilbert\n",
      "3     605484T    W      M     Poston      Jerry     Poston, Jerry\n",
      "4     384832T    B      M      Mondy    Michael    Mondy, Michael\n",
      "  case_number race gender last_name first_name        full_name\n",
      "0      44523A    L      M     Curry      James     Curry, James\n",
      "1     121982X    L      M    Chavez    Gabriel  Chavez, Gabriel\n",
      "2     605484T    L      M   Salinas       Nick    Salinas, Nick\n",
      "3     384832T    B      M     Smith      James     Smith, James\n",
      "4     384832T    B      M      Dews    Antonio    Dews, Antonio\n"
     ]
    }
   ],
   "source": [
    "#Desafío Manipulación y transformación de datos (Parte I)\n",
    "\n",
    "#Ejercicio 1:\n",
    "\n",
    "#0.Importar librería:\n",
    "import pandas as pd\n",
    "\n",
    "#a. Cargar los datos y crear un DataFrame con cada uno de ellos:\n",
    "df_incidents = pd.read_pickle(\"incidents.pkl\")\n",
    "df_officers = pd.read_pickle(\"officers.pkl\")\n",
    "df_subjects = pd.read_pickle(\"subjects.pkl\")\n",
    "\n",
    "print(df_incidents.head())\n",
    "print(df_officers.head())\n",
    "print(df_subjects.head())"
   ]
  },
  {
   "cell_type": "code",
   "execution_count": 2,
   "id": "cc8b5efb",
   "metadata": {},
   "outputs": [
    {
     "name": "stdout",
     "output_type": "stream",
     "text": [
      "  case_number        date                  location subject_statuses  \\\n",
      "0      44523A  2013-02-23     3000 Chihuahua Street          Injured   \n",
      "1      44523A  2013-02-23     3000 Chihuahua Street          Injured   \n",
      "2     121982X  2010-05-03  1300 N. Munger Boulevard          Injured   \n",
      "3     605484T  2007-08-12   200 S. Stemmons Freeway            Other   \n",
      "4     384832T  2007-05-26           7900 S. Loop 12   Shoot and Miss   \n",
      "\n",
      "  subject_weapon                                           subjects  \\\n",
      "0        Handgun                                   Curry, James L/M   \n",
      "1        Handgun                                   Curry, James L/M   \n",
      "2        Handgun                                Chavez, Gabriel L/M   \n",
      "3        Shotgun                                  Salinas, Nick L/M   \n",
      "4        Unarmed  Smith, James B/M; Dews, Antonio B/M; Spearman,...   \n",
      "\n",
      "   subject_count                                   officers  officer_count  \\\n",
      "0              1  Patino, Michael L/M; Fillingim, Brian W/M              2   \n",
      "1              1  Patino, Michael L/M; Fillingim, Brian W/M              2   \n",
      "2              1                       Padilla, Gilbert L/M              1   \n",
      "3              1                          Poston, Jerry W/M              1   \n",
      "4              3                         Mondy, Michael B/M              1   \n",
      "\n",
      "  grand_jury_disposition  ... race_officers gender_officers  \\\n",
      "0                No Bill  ...             L               M   \n",
      "1                No Bill  ...             W               M   \n",
      "2                No Bill  ...             L               M   \n",
      "3            See Summary  ...             W               M   \n",
      "4                   None  ...             B               M   \n",
      "\n",
      "  last_name_officers  first_name_officers  full_name_officers race_subjects  \\\n",
      "0             Patino              Michael     Patino, Michael             L   \n",
      "1          Fillingim                Brian    Fillingim, Brian             L   \n",
      "2            Padilla              Gilbert    Padilla, Gilbert             L   \n",
      "3             Poston                Jerry       Poston, Jerry             L   \n",
      "4              Mondy              Michael      Mondy, Michael             B   \n",
      "\n",
      "  gender_subjects last_name_subjects first_name_subjects full_name_subjects  \n",
      "0               M              Curry               James       Curry, James  \n",
      "1               M              Curry               James       Curry, James  \n",
      "2               M             Chavez             Gabriel    Chavez, Gabriel  \n",
      "3               M            Salinas                Nick      Salinas, Nick  \n",
      "4               M              Smith               James       Smith, James  \n",
      "\n",
      "[5 rows x 25 columns]\n"
     ]
    }
   ],
   "source": [
    "#b. Generar una tabla que contenga la unión de las 3 tablas:\n",
    "df_merged = pd.merge(df_incidents, df_officers, on=\"case_number\")\n",
    "df_merged = pd.merge(df_merged, df_subjects, on=\"case_number\", suffixes=(\"_officers\", \"_subjects\"))\n",
    "print(df_merged.head())"
   ]
  },
  {
   "cell_type": "code",
   "execution_count": 3,
   "id": "b5b0fefa",
   "metadata": {},
   "outputs": [
    {
     "name": "stdout",
     "output_type": "stream",
     "text": [
      "Empty DataFrame\n",
      "Columns: [case_number, date, location, subject_statuses, subject_weapon, subjects, subject_count, officers, officer_count, grand_jury_disposition, attorney_general_forms_url, summary_url, summary_text, latitude, longitude, race_officers, gender_officers, last_name_officers, first_name_officers, full_name_officers, race_subjects, gender_subjects, last_name_subjects, first_name_subjects, full_name_subjects]\n",
      "Index: []\n",
      "\n",
      "[0 rows x 25 columns]\n"
     ]
    }
   ],
   "source": [
    "#c. Verificar si hay filas duplicadas; si es así, elimínarlas:\n",
    "duplicated_rows = df_merged[df_merged.duplicated()]\n",
    "print(duplicated_rows)\n",
    "#No hay filas duplicadas."
   ]
  },
  {
   "cell_type": "code",
   "execution_count": 4,
   "id": "8871331a",
   "metadata": {},
   "outputs": [
    {
     "name": "stdout",
     "output_type": "stream",
     "text": [
      "Número de sujetos de género F en DataFrame resultante: 9\n"
     ]
    }
   ],
   "source": [
    "#d. ¿Cuántos sujetos de género F hay en el DataFrame resultante?:\n",
    "numero_sujetos_f = df_merged[\"gender_subjects\"].value_counts().get('F', 0)\n",
    "print(\"Número de sujetos de género F en DataFrame resultante:\", numero_sujetos_f)"
   ]
  },
  {
   "cell_type": "code",
   "execution_count": 5,
   "id": "b5983f57",
   "metadata": {},
   "outputs": [
    {
     "name": "stdout",
     "output_type": "stream",
     "text": [
      "Número de casos en que por lo menos hay una sospechosa: 7\n"
     ]
    }
   ],
   "source": [
    "#e. ¿En cuántos números de caso hay por lo menos una sospechosa que sea mujer?:\n",
    "casos_sospechosa = df_merged[df_merged[\"gender_subjects\"] == 'F']['case_number'].nunique()\n",
    "print(\"Número de casos en que por lo menos hay una sospechosa:\", casos_sospechosa)"
   ]
  },
  {
   "cell_type": "code",
   "execution_count": 28,
   "id": "1b80845f",
   "metadata": {},
   "outputs": [
    {
     "name": "stdout",
     "output_type": "stream",
     "text": [
      "\n",
      "Tabla Pivote de Número de Casos por mes y año:\n",
      "\n",
      "year       2003  2004  2005  2006  2007  2008  2009  2010  2011  2012  2013  \\\n",
      "month                                                                         \n",
      "April       1.0   4.0   NaN   2.0   NaN   1.0   NaN   1.0   NaN   NaN   3.0   \n",
      "August      2.0   NaN   1.0   NaN   3.0   4.0   NaN   NaN   NaN   3.0   NaN   \n",
      "December    NaN   3.0   4.0   NaN   NaN   2.0  15.0   2.0   5.0   3.0   1.0   \n",
      "February    NaN   1.0   1.0   7.0   1.0   NaN   NaN   3.0   NaN   7.0   7.0   \n",
      "January     2.0   2.0   NaN   1.0   1.0   1.0   2.0   NaN   NaN   NaN   7.0   \n",
      "July        4.0   2.0   NaN   NaN   1.0   4.0   NaN   NaN   1.0   2.0   2.0   \n",
      "June        8.0   1.0   NaN   NaN   3.0   3.0   NaN   2.0   2.0   2.0   3.0   \n",
      "March       1.0   8.0   1.0   1.0   5.0   8.0   3.0   7.0   2.0   6.0   3.0   \n",
      "May         1.0   1.0   2.0   2.0   9.0   5.0   4.0   1.0   1.0   9.0   1.0   \n",
      "November    3.0   NaN   2.0   8.0   NaN   NaN   1.0   8.0   3.0   1.0   1.0   \n",
      "October     7.0   1.0   NaN   NaN   NaN   NaN   3.0   1.0   1.0   2.0   4.0   \n",
      "September   NaN   1.0   NaN   3.0   2.0   2.0   4.0   NaN   NaN   NaN   5.0   \n",
      "\n",
      "year       2014  2015  2016  \n",
      "month                        \n",
      "April       4.0   NaN   1.0  \n",
      "August      7.0   9.0   1.0  \n",
      "December    1.0   NaN   NaN  \n",
      "February    3.0   1.0   NaN  \n",
      "January     4.0   NaN   NaN  \n",
      "July        2.0   4.0  14.0  \n",
      "June        6.0  18.0   2.0  \n",
      "March       NaN   NaN   1.0  \n",
      "May         1.0   NaN   NaN  \n",
      "November    NaN   5.0   NaN  \n",
      "October     2.0   NaN   NaN  \n",
      "September   1.0   3.0   NaN  \n",
      "\n",
      "Respuesta: No logro apreciar alguna relación clara entre el mes del año y la cantidad de casos.\n"
     ]
    }
   ],
   "source": [
    "#f. Generar una tabla pivote que muestre el número de casos por mes en la fila y por año en las columnas:\n",
    "#¿Se ve alguna relación entre mes del año y cantidad de casos?\n",
    "df_merged[\"month\"] = pd.to_datetime(df_merged[\"date\"]).dt.month_name() \n",
    "df_merged[\"year\"] = pd.to_datetime(df_merged[\"date\"]).dt.year\n",
    "tabla_pivote_casos = df_merged.pivot_table(index = df_merged[\"month\"], columns = df_merged[\"year\"], values = \"case_number\", aggfunc = \"count\")\n",
    "\n",
    "print(\"\\nTabla Pivote de Número de Casos por mes y año:\\n\")\n",
    "print(tabla_pivote_casos)\n",
    "print(\"\\nRespuesta: No logro apreciar alguna relación clara entre el mes del año y la cantidad de casos.\")\n"
   ]
  },
  {
   "cell_type": "code",
   "execution_count": 27,
   "id": "03fe7caa",
   "metadata": {},
   "outputs": [
    {
     "name": "stdout",
     "output_type": "stream",
     "text": [
      "\n",
      "Tabla Pivote de Género de Oficiales y Sospechosos:\n",
      "\n",
      "gender_subjects  F    M\n",
      "gender_officers        \n",
      "F                2   18\n",
      "M                7  350\n",
      "\n",
      "Interpretación:\n",
      "\n",
      "1. Del total de casos (377), 9 corresponden a sospechosos de género femenino (2,4%) y 368 a masculino (97,6%).\n",
      "2. De los casos relacionados a oficiales femeninas (20), 2 involucraron sospechosos de género femenino (10%) y 18 de masculino (90%).\n",
      "3. De los casos relacionados a oficiales masculinos (357), 7 involucraron sospechosos de género femenino (2%) y 350 de masculino (98%).\n"
     ]
    }
   ],
   "source": [
    "#g. Generar una tabla pivote que muestre en las filas el género del oficial y en las columnas el género del subject.\n",
    "#¿Cómo interpretas los valores que muestra esta vista?\n",
    "tabla_pivote_genero = df_merged.pivot_table(index = \"gender_officers\", columns = \"gender_subjects\", values = \"case_number\", aggfunc = \"count\")\n",
    "\n",
    "print(\"\\nTabla Pivote de Género de Oficiales y Sospechosos:\\n\")\n",
    "print(tabla_pivote_genero)\n",
    "print(\"\\nInterpretación:\\n\")\n",
    "print(\"1. Del total de casos (377), 9 corresponden a sospechosos de género femenino (2,4%) y 368 a masculino (97,6%).\")\n",
    "print(\"2. De los casos relacionados a oficiales femeninas (20), 2 involucraron sospechosos de género femenino (10%) y 18 de masculino (90%).\")\n",
    "print(\"3. De los casos relacionados a oficiales masculinos (357), 7 involucraron sospechosos de género femenino (2%) y 350 de masculino (98%).\")\n"
   ]
  },
  {
   "cell_type": "code",
   "execution_count": null,
   "id": "45a648c3",
   "metadata": {},
   "outputs": [],
   "source": []
  },
  {
   "cell_type": "code",
   "execution_count": 19,
   "id": "6188b4d7",
   "metadata": {},
   "outputs": [
    {
     "name": "stdout",
     "output_type": "stream",
     "text": [
      "           Job Title Salary Estimate  \\\n",
      "0  Sr Data Scientist        137-171    \n",
      "1     Data Scientist        137-171    \n",
      "2     Data Scientist        137-171    \n",
      "3     Data Scientist        137-171    \n",
      "4     Data Scientist        137-171    \n",
      "\n",
      "                                     Job Description  Rating  \\\n",
      "0  Description\\n\\nThe Senior Data Scientist is re...     3.1   \n",
      "1  Secure our Nation, Ignite your Future\\n\\nJoin ...     4.2   \n",
      "2  Overview\\n\\n\\nAnalysis Group is one of the lar...     3.8   \n",
      "3  JOB DESCRIPTION:\\n\\nDo you have a passion for ...     3.5   \n",
      "4  Data Scientist\\nAffinity Solutions / Marketing...     2.9   \n",
      "\n",
      "         Company Name       Location            Headquarters  \\\n",
      "0         Healthfirst   New York, NY            New York, NY   \n",
      "1             ManTech  Chantilly, VA             Herndon, VA   \n",
      "2      Analysis Group     Boston, MA              Boston, MA   \n",
      "3             INFICON     Newton, MA  Bad Ragaz, Switzerland   \n",
      "4  Affinity Solutions   New York, NY            New York, NY   \n",
      "\n",
      "                      Size        Type of ownership  \\\n",
      "0   1001 to 5000 employees   Nonprofit Organization   \n",
      "1  5001 to 10000 employees         Company - Public   \n",
      "2   1001 to 5000 employees  Private Practice / Firm   \n",
      "3    501 to 1000 employees         Company - Public   \n",
      "4      51 to 200 employees        Company - Private   \n",
      "\n",
      "                                Industry  ... company_age python  excel  \\\n",
      "0                     Insurance Carriers  ...          27      0      0   \n",
      "1                 Research & Development  ...          52      0      0   \n",
      "2                             Consulting  ...          39      1      1   \n",
      "3  Electrical & Electronic Manufacturing  ...          20      1      1   \n",
      "4                Advertising & Marketing  ...          22      1      1   \n",
      "\n",
      "   hadoop  spark aws  tableau  big_data        job_simp  seniority  \n",
      "0       0      0   1        0         0  data scientist     senior  \n",
      "1       1      0   0        0         1  data scientist         na  \n",
      "2       0      0   1        0         0  data scientist         na  \n",
      "3       0      0   1        0         0  data scientist         na  \n",
      "4       0      0   0        0         0  data scientist         na  \n",
      "\n",
      "[5 rows x 27 columns]\n"
     ]
    }
   ],
   "source": [
    "#Ejercicio 2:\n",
    "\n",
    "#0.Importar librerías:\n",
    "import numpy as np\n",
    "\n",
    "#a. Cargar los datos y crear un DataFrame con ellos:\n",
    "df_Cleaned_DS_Jobs = pd.read_csv(\"Cleaned_DS_Jobs.csv\")\n",
    "\n",
    "print(df_Cleaned_DS_Jobs.head())"
   ]
  },
  {
   "cell_type": "code",
   "execution_count": 20,
   "id": "e0e2784c",
   "metadata": {},
   "outputs": [
    {
     "name": "stdout",
     "output_type": "stream",
     "text": [
      "Job Title              0\n",
      "Salary Estimate        0\n",
      "Job Description        0\n",
      "Rating                 0\n",
      "Company Name           0\n",
      "Location               0\n",
      "Headquarters          31\n",
      "Size                  27\n",
      "Type of ownership     27\n",
      "Industry              71\n",
      "Sector                71\n",
      "Revenue               27\n",
      "min_salary             0\n",
      "max_salary             0\n",
      "avg_salary             0\n",
      "job_state              0\n",
      "same_state             0\n",
      "company_age          118\n",
      "python                 0\n",
      "excel                  0\n",
      "hadoop                 0\n",
      "spark                  0\n",
      "aws                    0\n",
      "tableau                0\n",
      "big_data               0\n",
      "job_simp              68\n",
      "seniority            567\n",
      "dtype: int64\n"
     ]
    }
   ],
   "source": [
    "#b. Utilizar la siguiente lista de valores que serán considerados como nulos:\n",
    "#Listar valores nulos:\n",
    "valores_nulos = [\"na\", \"NA\", -1, \"0\", \"-1\", \"null\", \"n/a\", \"N/A\", \"NULL\"]\n",
    "\n",
    "#Reemplazar valores nulos por np.nan:\n",
    "df_Cleaned_DS_Jobs.replace(valores_nulos, np.nan, inplace = True)\n",
    "\n",
    "#Cantidad valores nulos por columna:\n",
    "numero_valores_nulos = df_Cleaned_DS_Jobs.isna().sum()\n",
    "print(numero_valores_nulos)"
   ]
  },
  {
   "cell_type": "code",
   "execution_count": 21,
   "id": "492159c6",
   "metadata": {},
   "outputs": [
    {
     "name": "stdout",
     "output_type": "stream",
     "text": [
      "Número de filas antes de la eliminación: 660\n",
      "Número de filas después de la eliminación: 80\n"
     ]
    }
   ],
   "source": [
    "#c. Eliminar todas las filas con datos faltantes:\n",
    "\n",
    "#Cantidad de filas antes de la eliminación:\n",
    "numero_filas_antes = df_Cleaned_DS_Jobs.shape[0]\n",
    "print(\"Número de filas antes de la eliminación:\",numero_filas_antes)\n",
    "\n",
    "#Eliminar filas con datos faltantes:\n",
    "df_Cleaned_DS_Jobs.dropna(inplace=True)\n",
    "\n",
    "#Cantidad de filas después de la eliminación:\n",
    "numero_filas_despues = df_Cleaned_DS_Jobs.shape[0]\n",
    "print(\"Número de filas después de la eliminación:\",numero_filas_despues)"
   ]
  },
  {
   "cell_type": "code",
   "execution_count": 22,
   "id": "1f7007d2",
   "metadata": {},
   "outputs": [
    {
     "name": "stdout",
     "output_type": "stream",
     "text": [
      "                                       Job Title Salary Estimate  \\\n",
      "0                              Sr Data Scientist        137-171    \n",
      "32  Senior Research Statistician- Data Scientist         75-131    \n",
      "38                 Senior Analyst/Data Scientist         75-131    \n",
      "45                         Senior Data Scientist         75-131    \n",
      "54                         Senior Data Scientist         75-131    \n",
      "\n",
      "                                      Job Description  Rating  \\\n",
      "0   Description\\n\\nThe Senior Data Scientist is re...     3.1   \n",
      "32  Acuity is seeking a Senior Research Statistici...     4.8   \n",
      "38  At Edmunds were driven to make car buying easi...     3.4   \n",
      "45  Klaviyo is looking for Senior Data Scientists ...     4.8   \n",
      "54  Benson Hill empowers innovators to develop mor...     3.5   \n",
      "\n",
      "        Company Name          Location      Headquarters  \\\n",
      "0        Healthfirst      New York, NY      New York, NY   \n",
      "32  Acuity Insurance     Sheboygan, WI     Sheboygan, WI   \n",
      "38       Edmunds.com  Santa Monica, CA  Santa Monica, CA   \n",
      "45           Klaviyo        Boston, MA        Boston, MA   \n",
      "54       Benson Hill   Saint Louis, MO   Saint Louis, MO   \n",
      "\n",
      "                      Size       Type of ownership  \\\n",
      "0   1001 to 5000 employees  Nonprofit Organization   \n",
      "32  1001 to 5000 employees       Company - Private   \n",
      "38   501 to 1000 employees       Company - Private   \n",
      "45    201 to 500 employees       Company - Private   \n",
      "54    201 to 500 employees       Company - Private   \n",
      "\n",
      "                        Industry  ... excel hadoop  spark  aws  tableau  \\\n",
      "0             Insurance Carriers  ...     0      0      0    1        0   \n",
      "32            Insurance Carriers  ...     0      0      0    0        0   \n",
      "38                      Internet  ...     1      0      0    1        1   \n",
      "45  Computer Hardware & Software  ...     0      0      0    0        0   \n",
      "54     Biotech & Pharmaceuticals  ...     1      0      0    0        0   \n",
      "\n",
      "   big_data        job_simp  seniority  Salario Estimado Mínimo  \\\n",
      "0         0  data scientist     senior                      137   \n",
      "32        0  data scientist     senior                       75   \n",
      "38        0  data scientist     senior                       75   \n",
      "45        0  data scientist     senior                       75   \n",
      "54        1  data scientist     senior                       75   \n",
      "\n",
      "    Salario Estimado Máximo  \n",
      "0                       171  \n",
      "32                      131  \n",
      "38                      131  \n",
      "45                      131  \n",
      "54                      131  \n",
      "\n",
      "[5 rows x 29 columns]\n"
     ]
    }
   ],
   "source": [
    "#d. A partir de la columna “Salary Estimate”, generar dos columnas: Salario Estimado Mínimo y Máximo:\n",
    "\n",
    "#Generar 2 columnas:\n",
    "df_Cleaned_DS_Jobs[[\"Salario Estimado Mínimo\", \"Salario Estimado Máximo\"]] = df_Cleaned_DS_Jobs[\"Salary Estimate\"].str.split(\"-\", expand = True)\n",
    "\n",
    "#Convertir ambas columnas en valores numéricos:\n",
    "df_Cleaned_DS_Jobs[\"Salario Estimado Mínimo\"] = pd.to_numeric(df_Cleaned_DS_Jobs[\"Salario Estimado Mínimo\"].str.strip(), errors = \"coerce\")\n",
    "df_Cleaned_DS_Jobs[\"Salario Estimado Máximo\"] = pd.to_numeric(df_Cleaned_DS_Jobs[\"Salario Estimado Máximo\"].str.strip(), errors = \"coerce\")\n",
    "\n",
    "print(df_Cleaned_DS_Jobs.head())"
   ]
  },
  {
   "cell_type": "code",
   "execution_count": 23,
   "id": "a5c445d6",
   "metadata": {},
   "outputs": [
    {
     "name": "stdout",
     "output_type": "stream",
     "text": [
      "                                       Job Title Salary Estimate  \\\n",
      "0                              Sr Data Scientist        137-171    \n",
      "32  Senior Research Statistician- Data Scientist         75-131    \n",
      "38                 Senior Analyst/Data Scientist         75-131    \n",
      "45                         Senior Data Scientist         75-131    \n",
      "54                         Senior Data Scientist         75-131    \n",
      "\n",
      "                                      Job Description  Rating  \\\n",
      "0   Description\\n\\nThe Senior Data Scientist is re...     3.1   \n",
      "32  Acuity is seeking a Senior Research Statistici...     4.8   \n",
      "38  At Edmunds were driven to make car buying easi...     3.4   \n",
      "45  Klaviyo is looking for Senior Data Scientists ...     4.8   \n",
      "54  Benson Hill empowers innovators to develop mor...     3.5   \n",
      "\n",
      "        Company Name          Location      Headquarters               Size  \\\n",
      "0        Healthfirst      New York, NY      New York, NY  Medianas Empresas   \n",
      "32  Acuity Insurance     Sheboygan, WI     Sheboygan, WI  Medianas Empresas   \n",
      "38       Edmunds.com  Santa Monica, CA  Santa Monica, CA      Microempresas   \n",
      "45           Klaviyo        Boston, MA        Boston, MA  Pequeñas Empresas   \n",
      "54       Benson Hill   Saint Louis, MO   Saint Louis, MO  Pequeñas Empresas   \n",
      "\n",
      "         Type of ownership                      Industry  ... excel hadoop  \\\n",
      "0   Nonprofit Organization            Insurance Carriers  ...     0      0   \n",
      "32       Company - Private            Insurance Carriers  ...     0      0   \n",
      "38       Company - Private                      Internet  ...     1      0   \n",
      "45       Company - Private  Computer Hardware & Software  ...     0      0   \n",
      "54       Company - Private     Biotech & Pharmaceuticals  ...     1      0   \n",
      "\n",
      "    spark  aws  tableau big_data        job_simp  seniority  \\\n",
      "0       0    1        0        0  data scientist     senior   \n",
      "32      0    0        0        0  data scientist     senior   \n",
      "38      0    1        1        0  data scientist     senior   \n",
      "45      0    0        0        0  data scientist     senior   \n",
      "54      0    0        0        1  data scientist     senior   \n",
      "\n",
      "    Salario Estimado Mínimo  Salario Estimado Máximo  \n",
      "0                       137                      171  \n",
      "32                       75                      131  \n",
      "38                       75                      131  \n",
      "45                       75                      131  \n",
      "54                       75                      131  \n",
      "\n",
      "[5 rows x 29 columns]\n"
     ]
    }
   ],
   "source": [
    "#e. Realizar la recodificación de la columna Size con los valores de la tabla entregada:\n",
    "\n",
    "#Generar diccionario:\n",
    "recodificación_size = { \n",
    "\"10000+ employees\": \"Mega Empresas\",\n",
    "\"5001 to 10000 employees\": \"Grandes Empresas\",\n",
    "\"1001 to 5000 employees\": \"Medianas Empresas\", \n",
    "\"201 to 500 employees\": \"Pequeñas Empresas\", \n",
    "\"51 to 200 employees\": \"Pequeñas Grandes Empresas\",\n",
    "\"501 to 1000 employees\": \"Microempresas\",\n",
    "\"Unknown\": \"Empresas sin Información\"\n",
    "}\n",
    "\n",
    "#Reemplazar valores:\n",
    "df_Cleaned_DS_Jobs[\"Size\"] = df_Cleaned_DS_Jobs[\"Size\"].replace(recodificación_size)\n",
    "\n",
    "print(df_Cleaned_DS_Jobs.head())"
   ]
  },
  {
   "cell_type": "code",
   "execution_count": 25,
   "id": "64602c8e",
   "metadata": {},
   "outputs": [
    {
     "name": "stdout",
     "output_type": "stream",
     "text": [
      "\n",
      "Tabla Pivote de Salarios Medios por Tamaño de Empresa:\n",
      "\n",
      "                           Salario Estimado Máximo  Salario Estimado Mínimo\n",
      "Size                                                                       \n",
      "Empresas sin Información                110.500000                73.000000\n",
      "Grandes Empresas                        138.875000                92.125000\n",
      "Medianas Empresas                       137.461538                93.923077\n",
      "Mega Empresas                           151.111111                97.888889\n",
      "Microempresas                           146.235294               100.176471\n",
      "Pequeñas Empresas                       141.142857                93.571429\n",
      "Pequeñas Grandes Empresas               137.666667               100.666667\n"
     ]
    }
   ],
   "source": [
    "#f. Generar una tabla pivote que muestre la media del salario estimado mínimo y la media del salario estimado máximo por tamaño de empresa.\n",
    "\n",
    "tabla_pivote_salario = df_Cleaned_DS_Jobs.pivot_table(index = \"Size\", values = [\"Salario Estimado Mínimo\", \"Salario Estimado Máximo\"], aggfunc = \"mean\")\n",
    "\n",
    "print(\"\\nTabla Pivote de Salarios Medios por Tamaño de Empresa:\\n\")\n",
    "print(tabla_pivote_salario)"
   ]
  },
  {
   "cell_type": "code",
   "execution_count": null,
   "id": "91e5f525",
   "metadata": {},
   "outputs": [],
   "source": []
  }
 ],
 "metadata": {
  "kernelspec": {
   "display_name": "Python 3 (ipykernel)",
   "language": "python",
   "name": "python3"
  },
  "language_info": {
   "codemirror_mode": {
    "name": "ipython",
    "version": 3
   },
   "file_extension": ".py",
   "mimetype": "text/x-python",
   "name": "python",
   "nbconvert_exporter": "python",
   "pygments_lexer": "ipython3",
   "version": "3.9.13"
  }
 },
 "nbformat": 4,
 "nbformat_minor": 5
}
