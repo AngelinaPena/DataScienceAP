{
 "cells": [
  {
   "cell_type": "code",
   "execution_count": 28,
   "id": "816bbc1a",
   "metadata": {},
   "outputs": [],
   "source": [
    "#Desafío - Transformación y manipulación de datos (Parte II)\n",
    "\n",
    "#0. Importar librería:\n",
    "\n",
    "import pandas as pd\n",
    "\n",
    "#1. Cargar los datos de cada pestaña del archivo \"US_Regional_Sales_Data.xlsx\" en un DataFrame independiente:\n",
    "archivo = pd.ExcelFile(\"US_Regional_Sales_Data.xlsx\")\n",
    "\n",
    "df_sales_orders = pd.read_excel(archivo, \"Sales Orders Sheet\")\n",
    "df_customers = pd.read_excel(archivo, \"Customers Sheet\")\n",
    "df_store_locations = pd.read_excel(archivo, \"Store Locations Sheet\")\n",
    "df_products = pd.read_excel(archivo, \"Products Sheet\")\n",
    "df_sales_team = pd.read_excel(archivo, \"Sales Team Sheet\")"
   ]
  },
  {
   "cell_type": "code",
   "execution_count": 29,
   "id": "39c2ef0b",
   "metadata": {},
   "outputs": [],
   "source": [
    "#2. Cruzar todos los DataFrames usando validación many_to_one, y guardar el resultado en una nueva variable llamada \"df_base\":\n",
    "df_base = pd.merge(df_sales_orders, df_customers, on=\"_CustomerID\", how=\"left\")\n",
    "df_base = pd.merge(df_base, df_store_locations, on=\"_StoreID\", how=\"left\")\n",
    "df_base = pd.merge(df_base, df_products, on=\"_ProductID\", how=\"left\")\n",
    "df_base = pd.merge(df_base, df_sales_team, on=\"_SalesTeamID\", how=\"left\")"
   ]
  },
  {
   "cell_type": "code",
   "execution_count": 76,
   "id": "492e4060",
   "metadata": {},
   "outputs": [],
   "source": [
    "#3. Agregar las columnas de la tabla a \"df_base\":\n",
    "\n",
    "#Asegurar que sean de tipo datetime:\n",
    "df_base[\"ProcuredDate\"] = pd.to_datetime(df_base[\"ProcuredDate\"])\n",
    "df_base[\"OrderDate\"] = pd.to_datetime(df_base[\"OrderDate\"])\n",
    "df_base[\"ShipDate\"] = pd.to_datetime(df_base[\"ShipDate\"])\n",
    "df_base[\"DeliveryDate\"] = pd.to_datetime(df_base[\"DeliveryDate\"])\n",
    "\n",
    "#Crear las columnas solicitadas:\n",
    "df_base[\"ProcurementDays\"] = (df_base[\"OrderDate\"] - df_base[\"ProcuredDate\"]).dt.days\n",
    "df_base[\"ShippingDays\"] = (df_base[\"ShipDate\"] - df_base[\"OrderDate\"]).dt.days\n",
    "df_base[\"DeliveryDays\"] = (df_base[\"DeliveryDate\"] - df_base[\"ShipDate\"]).dt.days\n",
    "df_base[\"CustomerDays\"] = df_base[\"ShippingDays\"] + df_base[\"DeliveryDays\"]"
   ]
  },
  {
   "cell_type": "code",
   "execution_count": 80,
   "id": "ebadb4b6",
   "metadata": {},
   "outputs": [],
   "source": [
    "#4. Agregar una nueva columna discreta al \"df_base\", con el nombre \"CustomerDaysInterval\" que clasifique los valores de la\n",
    "#columna \"CustomerDays\" en los intervalos señalados:\n",
    "df_base[\"CustomerDaysInterval\"] = pd.cut(df_base[\"CustomerDays\"],\n",
    "                                          bins=[0, 15, 30, 45, 60, 75, 90],\n",
    "                                          labels=[\"0 to 15 days\", \"15 to 30 days\", \"30 to 45 days\",\n",
    "                                                  \"45 to 60 days\", \"60 to 75 days\", \"75 to 90 days\"])"
   ]
  },
  {
   "cell_type": "code",
   "execution_count": 107,
   "id": "281edc5e",
   "metadata": {},
   "outputs": [
    {
     "name": "stdout",
     "output_type": "stream",
     "text": [
      "CustomerDaysInterval  0 to 15 days  15 to 30 days  30 to 45 days  \\\n",
      "Sales Team                                                         \n",
      "Adam Hernandez                  81            179             42   \n",
      "Anthony Berry                   76            181             41   \n",
      "Anthony Torres                  81            162             45   \n",
      "Carl Nguyen                     96            178             40   \n",
      "Carlos Miller                   65            148             34   \n",
      "Chris Armstrong                 92            156             44   \n",
      "Donald Reynolds                 97            163             36   \n",
      "Douglas Tucker                  87            145             45   \n",
      "Frank Brown                     85            150             40   \n",
      "George Lewis                   104            169             42   \n",
      "Jerry Green                     85            165             46   \n",
      "Joe Price                       87            138             41   \n",
      "Jonathan Hawkins                81            143             36   \n",
      "Joshua Bennett                  85            148             32   \n",
      "Joshua Little                   83            165             41   \n",
      "Joshua Ryan                     83            166             36   \n",
      "Keith Griffin                   94            127             25   \n",
      "Nicholas Cunningham             88            171             34   \n",
      "Patrick Graham                  92            130             37   \n",
      "Paul Holmes                     61            159             41   \n",
      "Roger Alexander                 82            147             42   \n",
      "Roy Rice                        75            166             43   \n",
      "Samuel Fowler                   90            162             44   \n",
      "Shawn Cook                      88            175             40   \n",
      "Shawn Torres                    77            160             37   \n",
      "Shawn Wallace                   95            168             53   \n",
      "Stephen Payne                   97            156             30   \n",
      "Todd Roberts                   113            187             40   \n",
      "\n",
      "CustomerDaysInterval  45 to 60 days  60 to 75 days  75 to 90 days  \n",
      "Sales Team                                                         \n",
      "Adam Hernandez                    0              0              0  \n",
      "Anthony Berry                     0              0              0  \n",
      "Anthony Torres                    0              0              0  \n",
      "Carl Nguyen                       0              0              0  \n",
      "Carlos Miller                     0              0              0  \n",
      "Chris Armstrong                   0              0              0  \n",
      "Donald Reynolds                   0              0              0  \n",
      "Douglas Tucker                    0              0              0  \n",
      "Frank Brown                       0              0              0  \n",
      "George Lewis                      0              0              0  \n",
      "Jerry Green                       0              0              0  \n",
      "Joe Price                         0              0              0  \n",
      "Jonathan Hawkins                  0              0              0  \n",
      "Joshua Bennett                    0              0              0  \n",
      "Joshua Little                     0              0              0  \n",
      "Joshua Ryan                       0              0              0  \n",
      "Keith Griffin                     0              0              0  \n",
      "Nicholas Cunningham               0              0              0  \n",
      "Patrick Graham                    0              0              0  \n",
      "Paul Holmes                       0              0              0  \n",
      "Roger Alexander                   0              0              0  \n",
      "Roy Rice                          0              0              0  \n",
      "Samuel Fowler                     0              0              0  \n",
      "Shawn Cook                        0              0              0  \n",
      "Shawn Torres                      0              0              0  \n",
      "Shawn Wallace                     0              0              0  \n",
      "Stephen Payne                     0              0              0  \n",
      "Todd Roberts                      0              0              0  \n"
     ]
    }
   ],
   "source": [
    "#5. Utilizar una tabla pivote para mostrar el conteo de órdenes agrupando por \"Sales Team\" en las filas y \"CustomerDaysInterval\" en las columnas:\n",
    "tabla_pivote_conteo = pd.pivot_table(df_base, values =\"OrderNumber\", index =\"Sales Team\", columns=\"CustomerDaysInterval\", aggfunc=\"count\", fill_value = 0)\n",
    "\n",
    "print(tabla_pivote_conteo)"
   ]
  },
  {
   "cell_type": "code",
   "execution_count": 95,
   "id": "b3e0b68c",
   "metadata": {},
   "outputs": [],
   "source": [
    "#6. Agregar la columna calculada \"GrossMargin\" a la base:\n",
    "df_base[\"GrossMargin\"] = df_base[\"Order Quantity\"] * (df_base[\"Unit Price\"] * (1 - df_base[\"Discount Applied\"]) - df_base[\"Unit Cost\"])"
   ]
  },
  {
   "cell_type": "code",
   "execution_count": 112,
   "id": "3238f245",
   "metadata": {},
   "outputs": [],
   "source": [
    "#7. Aplicar un porcentaje a la columna \"GrossMargin\", pero ese porcentaje dependerá del intervalo en que se encuentre GrossMargin:\n",
    "df_base[\"CommissionsPercentage\"] = pd.cut(df_base[\"GrossMargin\"],\n",
    "                                           bins=[-float(\"inf\"), 100, 1000, 10000, 100000, float(\"inf\")],\n",
    "                                           labels=[0.05, 0.1, 0.15, 0.2, 0.0]).astype(float)"
   ]
  },
  {
   "cell_type": "code",
   "execution_count": 99,
   "id": "2db0f469",
   "metadata": {},
   "outputs": [],
   "source": [
    "#8. Calcular el monto de la comisión en la columna \"CommissionsAmount\":\n",
    "df_base[\"CommissionsAmount\"] = df_base[\"GrossMargin\"] * df_base[\"CommissionsPercentage\"]"
   ]
  },
  {
   "cell_type": "code",
   "execution_count": 101,
   "id": "77ec5b8b",
   "metadata": {},
   "outputs": [],
   "source": [
    "#9. Calcular la comisión sobre el margen bruto en la columna \"NetMargin\":\n",
    "df_base[\"NetMargin\"] = df_base[\"GrossMargin\"] - df_base[\"CommissionsAmount\"]"
   ]
  },
  {
   "cell_type": "code",
   "execution_count": 108,
   "id": "6ce94775",
   "metadata": {},
   "outputs": [
    {
     "name": "stdout",
     "output_type": "stream",
     "text": [
      "                     CommissionsAmount  GrossMargin      NetMargin\n",
      "Sales Team                                                        \n",
      "Adam Hernandez           125360.740275  779095.1955  653734.455225\n",
      "Anthony Berry            123515.402825  767943.9500  644428.547175\n",
      "Anthony Torres           117421.270425  743901.4355  626480.165075\n",
      "Carl Nguyen              123296.388200  774781.4675  651485.079300\n",
      "Carlos Miller            109759.334675  668752.9290  558993.594325\n",
      "Chris Armstrong          122474.986625  781608.7005  659133.713875\n",
      "Donald Reynolds          143147.349200  885386.8095  742239.460300\n",
      "Douglas Tucker           120353.208850  745528.5640  625175.355150\n",
      "Frank Brown              104637.715650  670881.2510  566243.535350\n",
      "George Lewis             136425.941025  839150.7460  702724.804975\n",
      "Jerry Green              126237.850675  788587.7555  662349.904825\n",
      "Joe Price                128634.050400  787707.4425  659073.392100\n",
      "Jonathan Hawkins         125744.182950  781391.5870  655647.404050\n",
      "Joshua Bennett           107270.879300  661726.5385  554455.659200\n",
      "Joshua Little            135336.919675  840321.1690  704984.249325\n",
      "Joshua Ryan              113257.307525  702157.8225  588900.514975\n",
      "Keith Griffin            111081.382025  675453.5990  564372.216975\n",
      "Nicholas Cunningham      126915.371425  792644.9405  665729.569075\n",
      "Patrick Graham           121273.718500  746394.0030  625120.284500\n",
      "Paul Holmes              113848.507150  705564.6050  591716.097850\n",
      "Roger Alexander          122098.692850  773027.6755  650928.982650\n",
      "Roy Rice                 134048.173000  831446.6170  697398.444000\n",
      "Samuel Fowler            129001.084775  793254.8750  664253.790225\n",
      "Shawn Cook               135713.421150  854878.0245  719164.603350\n",
      "Shawn Torres             113809.874950  705619.6120  591809.737050\n",
      "Shawn Wallace            116220.009000  726737.6770  610517.668000\n",
      "Stephen Payne            115351.667225  707156.7930  591805.125775\n",
      "Todd Roberts             124645.620800  794225.3700  669579.749200\n"
     ]
    }
   ],
   "source": [
    "#10. Utilizando una tabla pivote, mostrar la suma de los valores \"GrossMargin\", \"NetMargin\" y \"CommissionAmount\" agrupando por \"Sales Team\" en las filas:\n",
    "tabla_pivote_suma = pd.pivot_table(df_base, values = [\"GrossMargin\", \"NetMargin\", \"CommissionsAmount\"], index = \"Sales Team\", aggfunc = \"sum\")\n",
    "\n",
    "print(tabla_pivote_suma)"
   ]
  },
  {
   "cell_type": "code",
   "execution_count": null,
   "id": "5361e9f5",
   "metadata": {},
   "outputs": [],
   "source": []
  }
 ],
 "metadata": {
  "kernelspec": {
   "display_name": "Python 3 (ipykernel)",
   "language": "python",
   "name": "python3"
  },
  "language_info": {
   "codemirror_mode": {
    "name": "ipython",
    "version": 3
   },
   "file_extension": ".py",
   "mimetype": "text/x-python",
   "name": "python",
   "nbconvert_exporter": "python",
   "pygments_lexer": "ipython3",
   "version": "3.9.13"
  }
 },
 "nbformat": 4,
 "nbformat_minor": 5
}
